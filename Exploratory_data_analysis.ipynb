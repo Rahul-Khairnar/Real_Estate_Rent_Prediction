{
  "nbformat": 4,
  "nbformat_minor": 0,
  "metadata": {
    "kernelspec": {
      "display_name": "Python 3",
      "language": "python",
      "name": "python3"
    },
    "language_info": {
      "codemirror_mode": {
        "name": "ipython",
        "version": 3
      },
      "file_extension": ".py",
      "mimetype": "text/x-python",
      "name": "python",
      "nbconvert_exporter": "python",
      "pygments_lexer": "ipython3",
      "version": "3.7.6"
    },
    "colab": {
      "name": "Exploratory_data_analysis.ipynb",
      "provenance": [],
      "collapsed_sections": []
    }
  },
  "cells": [
    {
      "cell_type": "code",
      "metadata": {
        "id": "f2c3NE9oO_d5",
        "colab_type": "code",
        "colab": {}
      },
      "source": [
        "import pandas as pd\n",
        "import matplotlib.pyplot as plt\n",
        "import seaborn as sns"
      ],
      "execution_count": 49,
      "outputs": []
    },
    {
      "cell_type": "code",
      "metadata": {
        "id": "0rLJJ3zxO_eG",
        "colab_type": "code",
        "colab": {
          "base_uri": "https://localhost:8080/",
          "height": 204
        },
        "outputId": "ab768fe8-74f1-4b98-b981-7d102960e6d7"
      },
      "source": [
        "df = pd.read_csv(\"Properties_cleaned.csv\")\n",
        "df.head()"
      ],
      "execution_count": 50,
      "outputs": [
        {
          "output_type": "execute_result",
          "data": {
            "text/html": [
              "<div>\n",
              "<style scoped>\n",
              "    .dataframe tbody tr th:only-of-type {\n",
              "        vertical-align: middle;\n",
              "    }\n",
              "\n",
              "    .dataframe tbody tr th {\n",
              "        vertical-align: top;\n",
              "    }\n",
              "\n",
              "    .dataframe thead th {\n",
              "        text-align: right;\n",
              "    }\n",
              "</style>\n",
              "<table border=\"1\" class=\"dataframe\">\n",
              "  <thead>\n",
              "    <tr style=\"text-align: right;\">\n",
              "      <th></th>\n",
              "      <th>Unnamed: 0</th>\n",
              "      <th>area</th>\n",
              "      <th>bathroom_num</th>\n",
              "      <th>bedroom_num</th>\n",
              "      <th>locality</th>\n",
              "      <th>price</th>\n",
              "    </tr>\n",
              "  </thead>\n",
              "  <tbody>\n",
              "    <tr>\n",
              "      <th>0</th>\n",
              "      <td>0</td>\n",
              "      <td>350.0</td>\n",
              "      <td>2.0</td>\n",
              "      <td>1</td>\n",
              "      <td>Malad West</td>\n",
              "      <td>9000</td>\n",
              "    </tr>\n",
              "    <tr>\n",
              "      <th>1</th>\n",
              "      <td>1</td>\n",
              "      <td>652.0</td>\n",
              "      <td>2.0</td>\n",
              "      <td>1</td>\n",
              "      <td>Vasai</td>\n",
              "      <td>8060</td>\n",
              "    </tr>\n",
              "    <tr>\n",
              "      <th>2</th>\n",
              "      <td>2</td>\n",
              "      <td>635.0</td>\n",
              "      <td>2.0</td>\n",
              "      <td>1</td>\n",
              "      <td>Virar</td>\n",
              "      <td>8000</td>\n",
              "    </tr>\n",
              "    <tr>\n",
              "      <th>3</th>\n",
              "      <td>3</td>\n",
              "      <td>540.0</td>\n",
              "      <td>2.0</td>\n",
              "      <td>1</td>\n",
              "      <td>Vasai East</td>\n",
              "      <td>8000</td>\n",
              "    </tr>\n",
              "    <tr>\n",
              "      <th>4</th>\n",
              "      <td>4</td>\n",
              "      <td>625.0</td>\n",
              "      <td>1.0</td>\n",
              "      <td>1</td>\n",
              "      <td>Naigaon East</td>\n",
              "      <td>9000</td>\n",
              "    </tr>\n",
              "  </tbody>\n",
              "</table>\n",
              "</div>"
            ],
            "text/plain": [
              "   Unnamed: 0   area  bathroom_num  bedroom_num      locality  price\n",
              "0           0  350.0           2.0            1    Malad West   9000\n",
              "1           1  652.0           2.0            1         Vasai   8060\n",
              "2           2  635.0           2.0            1         Virar   8000\n",
              "3           3  540.0           2.0            1    Vasai East   8000\n",
              "4           4  625.0           1.0            1  Naigaon East   9000"
            ]
          },
          "metadata": {
            "tags": []
          },
          "execution_count": 50
        }
      ]
    },
    {
      "cell_type": "code",
      "metadata": {
        "id": "6F4ScDxEUHfT",
        "colab_type": "code",
        "colab": {
          "base_uri": "https://localhost:8080/",
          "height": 297
        },
        "outputId": "8256c447-a61c-4325-ebfd-b7cfc46950d7"
      },
      "source": [
        "df.describe()"
      ],
      "execution_count": 51,
      "outputs": [
        {
          "output_type": "execute_result",
          "data": {
            "text/html": [
              "<div>\n",
              "<style scoped>\n",
              "    .dataframe tbody tr th:only-of-type {\n",
              "        vertical-align: middle;\n",
              "    }\n",
              "\n",
              "    .dataframe tbody tr th {\n",
              "        vertical-align: top;\n",
              "    }\n",
              "\n",
              "    .dataframe thead th {\n",
              "        text-align: right;\n",
              "    }\n",
              "</style>\n",
              "<table border=\"1\" class=\"dataframe\">\n",
              "  <thead>\n",
              "    <tr style=\"text-align: right;\">\n",
              "      <th></th>\n",
              "      <th>Unnamed: 0</th>\n",
              "      <th>area</th>\n",
              "      <th>bathroom_num</th>\n",
              "      <th>bedroom_num</th>\n",
              "      <th>price</th>\n",
              "    </tr>\n",
              "  </thead>\n",
              "  <tbody>\n",
              "    <tr>\n",
              "      <th>count</th>\n",
              "      <td>33355.000000</td>\n",
              "      <td>33355.000000</td>\n",
              "      <td>33355.000000</td>\n",
              "      <td>33355.000000</td>\n",
              "      <td>3.335500e+04</td>\n",
              "    </tr>\n",
              "    <tr>\n",
              "      <th>mean</th>\n",
              "      <td>17244.304092</td>\n",
              "      <td>1180.052226</td>\n",
              "      <td>2.207525</td>\n",
              "      <td>2.085055</td>\n",
              "      <td>7.190426e+04</td>\n",
              "    </tr>\n",
              "    <tr>\n",
              "      <th>std</th>\n",
              "      <td>9900.327195</td>\n",
              "      <td>683.378838</td>\n",
              "      <td>0.880378</td>\n",
              "      <td>0.899649</td>\n",
              "      <td>7.720067e+04</td>\n",
              "    </tr>\n",
              "    <tr>\n",
              "      <th>min</th>\n",
              "      <td>0.000000</td>\n",
              "      <td>10.000000</td>\n",
              "      <td>1.000000</td>\n",
              "      <td>1.000000</td>\n",
              "      <td>2.200000e+03</td>\n",
              "    </tr>\n",
              "    <tr>\n",
              "      <th>25%</th>\n",
              "      <td>8689.500000</td>\n",
              "      <td>695.000000</td>\n",
              "      <td>2.000000</td>\n",
              "      <td>1.000000</td>\n",
              "      <td>3.200000e+04</td>\n",
              "    </tr>\n",
              "    <tr>\n",
              "      <th>50%</th>\n",
              "      <td>17311.000000</td>\n",
              "      <td>1045.000000</td>\n",
              "      <td>2.000000</td>\n",
              "      <td>2.000000</td>\n",
              "      <td>5.000000e+04</td>\n",
              "    </tr>\n",
              "    <tr>\n",
              "      <th>75%</th>\n",
              "      <td>25825.500000</td>\n",
              "      <td>1404.000000</td>\n",
              "      <td>3.000000</td>\n",
              "      <td>3.000000</td>\n",
              "      <td>8.000000e+04</td>\n",
              "    </tr>\n",
              "    <tr>\n",
              "      <th>max</th>\n",
              "      <td>34347.000000</td>\n",
              "      <td>9500.000000</td>\n",
              "      <td>8.000000</td>\n",
              "      <td>5.000000</td>\n",
              "      <td>1.200000e+06</td>\n",
              "    </tr>\n",
              "  </tbody>\n",
              "</table>\n",
              "</div>"
            ],
            "text/plain": [
              "         Unnamed: 0          area  bathroom_num   bedroom_num         price\n",
              "count  33355.000000  33355.000000  33355.000000  33355.000000  3.335500e+04\n",
              "mean   17244.304092   1180.052226      2.207525      2.085055  7.190426e+04\n",
              "std     9900.327195    683.378838      0.880378      0.899649  7.720067e+04\n",
              "min        0.000000     10.000000      1.000000      1.000000  2.200000e+03\n",
              "25%     8689.500000    695.000000      2.000000      1.000000  3.200000e+04\n",
              "50%    17311.000000   1045.000000      2.000000      2.000000  5.000000e+04\n",
              "75%    25825.500000   1404.000000      3.000000      3.000000  8.000000e+04\n",
              "max    34347.000000   9500.000000      8.000000      5.000000  1.200000e+06"
            ]
          },
          "metadata": {
            "tags": []
          },
          "execution_count": 51
        }
      ]
    },
    {
      "cell_type": "code",
      "metadata": {
        "id": "1iFptYUmO_eM",
        "colab_type": "code",
        "colab": {
          "base_uri": "https://localhost:8080/",
          "height": 367
        },
        "outputId": "f9a5bfc0-5a46-45df-d078-82ba7e39cf46"
      },
      "source": [
        "bedrooms = df[\"bedroom_num\"].value_counts()[:5]\n",
        "fig = plt.figure()\n",
        "ax = fig.add_axes([0,0,0.8,1])\n",
        "bedroom_count = bedrooms.index\n",
        "freq = bedrooms\n",
        "sns.barplot(x = bedroom_count,y = freq)\n",
        "plt.xlabel(\"No of Bedrooms\")\n",
        "plt.ylabel(\"Count\")"
      ],
      "execution_count": 52,
      "outputs": [
        {
          "output_type": "execute_result",
          "data": {
            "text/plain": [
              "Text(0, 0.5, 'Count')"
            ]
          },
          "metadata": {
            "tags": []
          },
          "execution_count": 52
        },
        {
          "output_type": "display_data",
          "data": {
            "image/png": "[encoded data removed]",
            "text/plain": [
              "<Figure size 432x288 with 1 Axes>"
            ]
          },
          "metadata": {
            "tags": [],
            "needs_background": "light"
          }
        }
      ]
    },
    {
      "cell_type": "code",
      "metadata": {
        "id": "bCufkUDMO_eS",
        "colab_type": "code",
        "colab": {
          "base_uri": "https://localhost:8080/",
          "height": 367
        },
        "outputId": "d786d5e4-39e5-4bbd-e92c-015b560b4a62"
      },
      "source": [
        "bathrooms = df[\"bathroom_num\"].value_counts()[:5]\n",
        "fig = plt.figure()\n",
        "ax = fig.add_axes([0,0,0.8,1])\n",
        "bathroom_count = bathrooms.index\n",
        "freq = bathrooms\n",
        "sns.barplot(x = bathroom_count,y = freq)\n",
        "plt.xlabel(\"No of bathrooms\")\n",
        "plt.ylabel(\"Count\")"
      ],
      "execution_count": 53,
      "outputs": [
        {
          "output_type": "execute_result",
          "data": {
            "text/plain": [
              "Text(0, 0.5, 'Count')"
            ]
          },
          "metadata": {
            "tags": []
          },
          "execution_count": 53
        },
        {
          "output_type": "display_data",
          "data": {
            "image/png": "[encoded data removed]",
            "text/plain": [
              "<Figure size 432x288 with 1 Axes>"
            ]
          },
          "metadata": {
            "tags": [],
            "needs_background": "light"
          }
        }
      ]
    },
    {
      "cell_type": "code",
      "metadata": {
        "id": "LcHsCIdWO_eX",
        "colab_type": "code",
        "colab": {
          "base_uri": "https://localhost:8080/",
          "height": 505
        },
        "outputId": "d266f376-e0e2-426e-8847-94f47acf8789"
      },
      "source": [
        "localities = df[\"locality\"].value_counts()[:20]\n",
        "fig = plt.figure()\n",
        "ax = fig.add_axes([0,0,1,1])\n",
        "local = localities.index\n",
        "freq = localities\n",
        "chart = sns.barplot(x = local,y = freq)\n",
        "chart.set_xticklabels(chart.get_xticklabels(), rotation = 90)\n",
        "plt.xlabel(\"Top 5 localities\")\n",
        "plt.ylabel(\"Count\")"
      ],
      "execution_count": 54,
      "outputs": [
        {
          "output_type": "execute_result",
          "data": {
            "text/plain": [
              "Text(0, 0.5, 'Count')"
            ]
          },
          "metadata": {
            "tags": []
          },
          "execution_count": 54
        },
        {
          "output_type": "display_data",
          "data": {
            "image/png": "[encoded data removed]",
            "text/plain": [
              "<Figure size 432x288 with 1 Axes>"
            ]
          },
          "metadata": {
            "tags": [],
            "needs_background": "light"
          }
        }
      ]
    },
    {
      "cell_type": "code",
      "metadata": {
        "id": "MNZwGNouO_ec",
        "colab_type": "code",
        "colab": {}
      },
      "source": [
        "df_corr = df[[\"locality\",\"area\",\"bathroom_num\",\"bedroom_num\",\"price\"]].corr()"
      ],
      "execution_count": 55,
      "outputs": []
    },
    {
      "cell_type": "code",
      "metadata": {
        "id": "D8pI-QqLRywV",
        "colab_type": "code",
        "colab": {
          "base_uri": "https://localhost:8080/",
          "height": 347
        },
        "outputId": "5e53e08d-f43c-4f3b-a525-717c54f3cbc7"
      },
      "source": [
        "cmap = sns.diverging_palette(220,2,as_cmap = True)\n",
        "map = sns.heatmap(df_corr, linewidth = 1.0,cmap = cmap)\n",
        "plt.title(\"Heat Map\")\n",
        "plt.show()"
      ],
      "execution_count": 56,
      "outputs": [
        {
          "output_type": "display_data",
          "data": {
            "image/png": "[encoded data removed]",
            "text/plain": [
              "<Figure size 432x288 with 2 Axes>"
            ]
          },
          "metadata": {
            "tags": [],
            "needs_background": "light"
          }
        }
      ]
    }
  ]
}