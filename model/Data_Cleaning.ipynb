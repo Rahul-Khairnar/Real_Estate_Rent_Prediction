{
  "nbformat": 4,
  "nbformat_minor": 0,
  "metadata": {
    "kernelspec": {
      "display_name": "Python 3",
      "language": "python",
      "name": "python3"
    },
    "language_info": {
      "codemirror_mode": {
        "name": "ipython",
        "version": 3
      },
      "file_extension": ".py",
      "mimetype": "text/x-python",
      "name": "python",
      "nbconvert_exporter": "python",
      "pygments_lexer": "ipython3",
      "version": "3.7.6"
    },
    "colab": {
      "name": "Data_Cleaning.ipynb",
      "provenance": [],
      "toc_visible": true
    }
  },
  "cells": [
    {
      "cell_type": "markdown",
      "metadata": {
        "id": "-hesjniZ22NK",
        "colab_type": "text"
      },
      "source": [
        "# <font color = black>Importing all the required modules</font>"
      ]
    },
    {
      "cell_type": "code",
      "metadata": {
        "id": "-YLOy7IK22NM",
        "colab_type": "code",
        "colab": {}
      },
      "source": [
        "import pandas as pd\n",
        "from matplotlib import pyplot as plt\n",
        "import numpy as np\n",
        "import matplotlib\n",
        "import seaborn as sns\n",
        "matplotlib.rcParams[\"figure.figsize\"] = (20,20)"
      ],
      "execution_count": 197,
      "outputs": []
    },
    {
      "cell_type": "markdown",
      "metadata": {
        "id": "5HeBGNBU22NW",
        "colab_type": "text"
      },
      "source": [
        "# <font color = black>Importing the Property dataset</font>"
      ]
    },
    {
      "cell_type": "code",
      "metadata": {
        "id": "uADhfd0B22NX",
        "colab_type": "code",
        "colab": {}
      },
      "source": [
        "df =pd.read_csv(\"property_data.csv\")"
      ],
      "execution_count": 198,
      "outputs": []
    },
    {
      "cell_type": "code",
      "metadata": {
        "scrolled": true,
        "id": "L9cMG6N322Nc",
        "colab_type": "code",
        "colab": {
          "base_uri": "https://localhost:8080/",
          "height": 581
        },
        "outputId": "2d183dc9-dff5-42c6-8d9e-0565fac095df"
      },
      "source": [
        "df.head()"
      ],
      "execution_count": 199,
      "outputs": [
        {
          "output_type": "execute_result",
          "data": {
            "text/html": [
              "<div>\n",
              "<style scoped>\n",
              "    .dataframe tbody tr th:only-of-type {\n",
              "        vertical-align: middle;\n",
              "    }\n",
              "\n",
              "    .dataframe tbody tr th {\n",
              "        vertical-align: top;\n",
              "    }\n",
              "\n",
              "    .dataframe thead th {\n",
              "        text-align: right;\n",
              "    }\n",
              "</style>\n",
              "<table border=\"1\" class=\"dataframe\">\n",
              "  <thead>\n",
              "    <tr style=\"text-align: right;\">\n",
              "      <th></th>\n",
              "      <th>area</th>\n",
              "      <th>bathroom_num</th>\n",
              "      <th>bedroom_num</th>\n",
              "      <th>city</th>\n",
              "      <th>desc</th>\n",
              "      <th>dev_name</th>\n",
              "      <th>floor_count</th>\n",
              "      <th>floor_num</th>\n",
              "      <th>furnishing</th>\n",
              "      <th>id</th>\n",
              "      <th>id_string</th>\n",
              "      <th>latitude</th>\n",
              "      <th>locality</th>\n",
              "      <th>longitude</th>\n",
              "      <th>post_date</th>\n",
              "      <th>poster_name</th>\n",
              "      <th>price</th>\n",
              "      <th>project</th>\n",
              "      <th>title</th>\n",
              "      <th>trans</th>\n",
              "      <th>type</th>\n",
              "      <th>url</th>\n",
              "      <th>user_type</th>\n",
              "    </tr>\n",
              "  </thead>\n",
              "  <tbody>\n",
              "    <tr>\n",
              "      <th>0</th>\n",
              "      <td>350.0</td>\n",
              "      <td>2.0</td>\n",
              "      <td>1</td>\n",
              "      <td>Mumbai</td>\n",
              "      <td>2 Bath,Unfurnished,East facing The project has...</td>\n",
              "      <td>NaN</td>\n",
              "      <td>NaN</td>\n",
              "      <td>NaN</td>\n",
              "      <td>Unfurnished</td>\n",
              "      <td>45349857</td>\n",
              "      <td>domcache_srp_45349857</td>\n",
              "      <td>19.201336</td>\n",
              "      <td>Malad West</td>\n",
              "      <td>72.825882</td>\n",
              "      <td>2020-01-11</td>\n",
              "      <td>Saurabh Patil</td>\n",
              "      <td>9000</td>\n",
              "      <td>NaN</td>\n",
              "      <td>1 BHK Apartment for Rent in Malad West</td>\n",
              "      <td>Rent</td>\n",
              "      <td>Apartment</td>\n",
              "      <td>/propertyDetails/1-BHK-350-Sq-ft-Multistorey-A...</td>\n",
              "      <td>Agent</td>\n",
              "    </tr>\n",
              "    <tr>\n",
              "      <th>1</th>\n",
              "      <td>652.0</td>\n",
              "      <td>2.0</td>\n",
              "      <td>1</td>\n",
              "      <td>Mumbai</td>\n",
              "      <td>2 Bath,Semi-Furnished,East facing A 1BHK apart...</td>\n",
              "      <td>Veena Group</td>\n",
              "      <td>NaN</td>\n",
              "      <td>NaN</td>\n",
              "      <td>Semi-Furnished</td>\n",
              "      <td>45960973</td>\n",
              "      <td>domcache_srp_45960973</td>\n",
              "      <td>19.410704</td>\n",
              "      <td>Vasai</td>\n",
              "      <td>72.833592</td>\n",
              "      <td>2020-01-11</td>\n",
              "      <td>Gorakh  Chavan</td>\n",
              "      <td>8060</td>\n",
              "      <td>Veena Dynasty</td>\n",
              "      <td>1 BHK Apartment for Rent in Veena Dynasty, Vasai</td>\n",
              "      <td>Rent</td>\n",
              "      <td>Apartment</td>\n",
              "      <td>/propertyDetails/1-BHK-652-Sq-ft-Multistorey-A...</td>\n",
              "      <td>Agent</td>\n",
              "    </tr>\n",
              "    <tr>\n",
              "      <th>2</th>\n",
              "      <td>635.0</td>\n",
              "      <td>2.0</td>\n",
              "      <td>1</td>\n",
              "      <td>Mumbai</td>\n",
              "      <td>2 Bath,Semi-Furnished,4 floor,West facing A be...</td>\n",
              "      <td>Agarwal Group</td>\n",
              "      <td>7.0</td>\n",
              "      <td>4.0</td>\n",
              "      <td>Semi-Furnished</td>\n",
              "      <td>46688849</td>\n",
              "      <td>domcache_srp_46688849</td>\n",
              "      <td>19.467032</td>\n",
              "      <td>Virar</td>\n",
              "      <td>72.801612</td>\n",
              "      <td>2019-12-13</td>\n",
              "      <td>Lokesh Joshi</td>\n",
              "      <td>8000</td>\n",
              "      <td>Agarwal Lifestyle</td>\n",
              "      <td>1 BHK Apartment for Rent in Agarwal Lifestyle,...</td>\n",
              "      <td>Rent</td>\n",
              "      <td>Apartment</td>\n",
              "      <td>/propertyDetails/1-BHK-635-Sq-ft-Multistorey-A...</td>\n",
              "      <td>Agent</td>\n",
              "    </tr>\n",
              "    <tr>\n",
              "      <th>3</th>\n",
              "      <td>540.0</td>\n",
              "      <td>2.0</td>\n",
              "      <td>1</td>\n",
              "      <td>Mumbai</td>\n",
              "      <td>2 Bath,Semi-Furnished,East facing Essential Se...</td>\n",
              "      <td>NaN</td>\n",
              "      <td>NaN</td>\n",
              "      <td>NaN</td>\n",
              "      <td>Semi-Furnished</td>\n",
              "      <td>44696119</td>\n",
              "      <td>domcache_srp_44696119</td>\n",
              "      <td>19.407257</td>\n",
              "      <td>Vasai East</td>\n",
              "      <td>72.836006</td>\n",
              "      <td>2020-01-13</td>\n",
              "      <td>Sajith  Thomas</td>\n",
              "      <td>8000</td>\n",
              "      <td>NaN</td>\n",
              "      <td>1 BHK Apartment for Rent in Vasai East</td>\n",
              "      <td>Rent</td>\n",
              "      <td>Apartment</td>\n",
              "      <td>/propertyDetails/1-BHK-540-Sq-ft-Multistorey-A...</td>\n",
              "      <td>Agent</td>\n",
              "    </tr>\n",
              "    <tr>\n",
              "      <th>4</th>\n",
              "      <td>625.0</td>\n",
              "      <td>1.0</td>\n",
              "      <td>1</td>\n",
              "      <td>Mumbai</td>\n",
              "      <td>1 Bath,Furnished,2 floor,North facing 24 hours...</td>\n",
              "      <td>Millennium Group</td>\n",
              "      <td>7.0</td>\n",
              "      <td>2.0</td>\n",
              "      <td>Furnished</td>\n",
              "      <td>46742851</td>\n",
              "      <td>domcache_srp_46742851</td>\n",
              "      <td>19.360215</td>\n",
              "      <td>Naigaon East</td>\n",
              "      <td>72.850167</td>\n",
              "      <td>2019-12-17</td>\n",
              "      <td>Charmaine  Gomez</td>\n",
              "      <td>9000</td>\n",
              "      <td>Mittal Enclave</td>\n",
              "      <td>1 BHK Apartment for Rent in Mittal Enclave, Na...</td>\n",
              "      <td>Rent</td>\n",
              "      <td>Apartment</td>\n",
              "      <td>/propertyDetails/1-BHK-625-Sq-ft-Multistorey-A...</td>\n",
              "      <td>Owner</td>\n",
              "    </tr>\n",
              "  </tbody>\n",
              "</table>\n",
              "</div>"
            ],
            "text/plain": [
              "    area  ...  user_type\n",
              "0  350.0  ...      Agent\n",
              "1  652.0  ...      Agent\n",
              "2  635.0  ...      Agent\n",
              "3  540.0  ...      Agent\n",
              "4  625.0  ...      Owner\n",
              "\n",
              "[5 rows x 23 columns]"
            ]
          },
          "metadata": {
            "tags": []
          },
          "execution_count": 199
        }
      ]
    },
    {
      "cell_type": "markdown",
      "metadata": {
        "id": "4reG9yYJ22Ni",
        "colab_type": "text"
      },
      "source": [
        "## <font color = black>Deleting the unnecessary columns and creating a new data set with only the important columns.</font>"
      ]
    },
    {
      "cell_type": "code",
      "metadata": {
        "id": "zM37yLji22Nj",
        "colab_type": "code",
        "colab": {
          "base_uri": "https://localhost:8080/",
          "height": 198
        },
        "outputId": "9faa52e6-c827-4c2a-e0bc-70a9c832a5b0"
      },
      "source": [
        "df_final = df[[\"area\",\"bathroom_num\",\"bedroom_num\",\"locality\",\"price\"]]\n",
        "df_final.head()"
      ],
      "execution_count": 200,
      "outputs": [
        {
          "output_type": "execute_result",
          "data": {
            "text/html": [
              "<div>\n",
              "<style scoped>\n",
              "    .dataframe tbody tr th:only-of-type {\n",
              "        vertical-align: middle;\n",
              "    }\n",
              "\n",
              "    .dataframe tbody tr th {\n",
              "        vertical-align: top;\n",
              "    }\n",
              "\n",
              "    .dataframe thead th {\n",
              "        text-align: right;\n",
              "    }\n",
              "</style>\n",
              "<table border=\"1\" class=\"dataframe\">\n",
              "  <thead>\n",
              "    <tr style=\"text-align: right;\">\n",
              "      <th></th>\n",
              "      <th>area</th>\n",
              "      <th>bathroom_num</th>\n",
              "      <th>bedroom_num</th>\n",
              "      <th>locality</th>\n",
              "      <th>price</th>\n",
              "    </tr>\n",
              "  </thead>\n",
              "  <tbody>\n",
              "    <tr>\n",
              "      <th>0</th>\n",
              "      <td>350.0</td>\n",
              "      <td>2.0</td>\n",
              "      <td>1</td>\n",
              "      <td>Malad West</td>\n",
              "      <td>9000</td>\n",
              "    </tr>\n",
              "    <tr>\n",
              "      <th>1</th>\n",
              "      <td>652.0</td>\n",
              "      <td>2.0</td>\n",
              "      <td>1</td>\n",
              "      <td>Vasai</td>\n",
              "      <td>8060</td>\n",
              "    </tr>\n",
              "    <tr>\n",
              "      <th>2</th>\n",
              "      <td>635.0</td>\n",
              "      <td>2.0</td>\n",
              "      <td>1</td>\n",
              "      <td>Virar</td>\n",
              "      <td>8000</td>\n",
              "    </tr>\n",
              "    <tr>\n",
              "      <th>3</th>\n",
              "      <td>540.0</td>\n",
              "      <td>2.0</td>\n",
              "      <td>1</td>\n",
              "      <td>Vasai East</td>\n",
              "      <td>8000</td>\n",
              "    </tr>\n",
              "    <tr>\n",
              "      <th>4</th>\n",
              "      <td>625.0</td>\n",
              "      <td>1.0</td>\n",
              "      <td>1</td>\n",
              "      <td>Naigaon East</td>\n",
              "      <td>9000</td>\n",
              "    </tr>\n",
              "  </tbody>\n",
              "</table>\n",
              "</div>"
            ],
            "text/plain": [
              "    area  bathroom_num  bedroom_num      locality  price\n",
              "0  350.0           2.0            1    Malad West   9000\n",
              "1  652.0           2.0            1         Vasai   8060\n",
              "2  635.0           2.0            1         Virar   8000\n",
              "3  540.0           2.0            1    Vasai East   8000\n",
              "4  625.0           1.0            1  Naigaon East   9000"
            ]
          },
          "metadata": {
            "tags": []
          },
          "execution_count": 200
        }
      ]
    },
    {
      "cell_type": "code",
      "metadata": {
        "id": "vrCVqhpx22No",
        "colab_type": "code",
        "colab": {
          "base_uri": "https://localhost:8080/",
          "height": 35
        },
        "outputId": "5a0db9ab-16d4-4042-de48-24d09d94fba7"
      },
      "source": [
        "df_final.shape"
      ],
      "execution_count": 201,
      "outputs": [
        {
          "output_type": "execute_result",
          "data": {
            "text/plain": [
              "(34348, 5)"
            ]
          },
          "metadata": {
            "tags": []
          },
          "execution_count": 201
        }
      ]
    },
    {
      "cell_type": "markdown",
      "metadata": {
        "id": "fNTQFPrj22Nt",
        "colab_type": "text"
      },
      "source": [
        "# <font color = black>Checking for the null values if any.</font>"
      ]
    },
    {
      "cell_type": "code",
      "metadata": {
        "id": "FO9-VaJD22Nu",
        "colab_type": "code",
        "colab": {
          "base_uri": "https://localhost:8080/",
          "height": 126
        },
        "outputId": "63fb0bd7-6032-4cb8-9f38-12de709cb4e2"
      },
      "source": [
        "df_final.isnull().sum()"
      ],
      "execution_count": 202,
      "outputs": [
        {
          "output_type": "execute_result",
          "data": {
            "text/plain": [
              "area            776\n",
              "bathroom_num     14\n",
              "bedroom_num       0\n",
              "locality        208\n",
              "price             0\n",
              "dtype: int64"
            ]
          },
          "metadata": {
            "tags": []
          },
          "execution_count": 202
        }
      ]
    },
    {
      "cell_type": "markdown",
      "metadata": {
        "id": "0Kxn2Oyp22N0",
        "colab_type": "text"
      },
      "source": [
        "# <font color = black>Dropping all the Null values. Since our dataset has got 32000 rows, deleting the 208  null values wont have any impact.</font>"
      ]
    },
    {
      "cell_type": "code",
      "metadata": {
        "id": "9CzYz8UM22N1",
        "colab_type": "code",
        "colab": {
          "base_uri": "https://localhost:8080/",
          "height": 126
        },
        "outputId": "f59c653a-69af-4a17-a004-9ba844e4b580"
      },
      "source": [
        "df_final1 = df_final.dropna()\n",
        "df_final1.isna().sum()"
      ],
      "execution_count": 203,
      "outputs": [
        {
          "output_type": "execute_result",
          "data": {
            "text/plain": [
              "area            0\n",
              "bathroom_num    0\n",
              "bedroom_num     0\n",
              "locality        0\n",
              "price           0\n",
              "dtype: int64"
            ]
          },
          "metadata": {
            "tags": []
          },
          "execution_count": 203
        }
      ]
    },
    {
      "cell_type": "code",
      "metadata": {
        "id": "ZI462E9F22N7",
        "colab_type": "code",
        "colab": {
          "base_uri": "https://localhost:8080/",
          "height": 35
        },
        "outputId": "4fadfa83-1527-4112-8c50-17cc5a2622af"
      },
      "source": [
        "df_final1.shape"
      ],
      "execution_count": 204,
      "outputs": [
        {
          "output_type": "execute_result",
          "data": {
            "text/plain": [
              "(33355, 5)"
            ]
          },
          "metadata": {
            "tags": []
          },
          "execution_count": 204
        }
      ]
    },
    {
      "cell_type": "code",
      "metadata": {
        "id": "d3fYByy322N_",
        "colab_type": "code",
        "colab": {
          "base_uri": "https://localhost:8080/",
          "height": 35
        },
        "outputId": "af1b6662-c30f-494a-e025-cd045376db78"
      },
      "source": [
        "df_final1[\"bedroom_num\"].unique()"
      ],
      "execution_count": 205,
      "outputs": [
        {
          "output_type": "execute_result",
          "data": {
            "text/plain": [
              "array([1, 3, 4, 5, 2])"
            ]
          },
          "metadata": {
            "tags": []
          },
          "execution_count": 205
        }
      ]
    },
    {
      "cell_type": "code",
      "metadata": {
        "id": "uZz3qxf122OE",
        "colab_type": "code",
        "colab": {
          "base_uri": "https://localhost:8080/",
          "height": 35
        },
        "outputId": "e9b55eb8-f4c3-411d-c046-d9c9e70e7021"
      },
      "source": [
        "df_final1[\"bathroom_num\"].unique()"
      ],
      "execution_count": 206,
      "outputs": [
        {
          "output_type": "execute_result",
          "data": {
            "text/plain": [
              "array([2., 1., 3., 4., 5., 6., 7., 8.])"
            ]
          },
          "metadata": {
            "tags": []
          },
          "execution_count": 206
        }
      ]
    },
    {
      "cell_type": "code",
      "metadata": {
        "id": "gMf6BMGp22OI",
        "colab_type": "code",
        "colab": {
          "base_uri": "https://localhost:8080/",
          "height": 1000
        },
        "outputId": "3046ac09-96bd-4e0a-be94-40892dc5ec66"
      },
      "source": [
        "df_final1[\"locality\"].unique()"
      ],
      "execution_count": 207,
      "outputs": [
        {
          "output_type": "execute_result",
          "data": {
            "text/plain": [
              "array(['Malad West', 'Vasai', 'Virar', 'Vasai East', 'Naigaon East',\n",
              "       'Virar West', 'Royal Palms Estate', 'Nalasopara', 'Silver Park',\n",
              "       'Vasai West', 'Andheri East', 'Mulund East', 'Nalasopara East',\n",
              "       'Balkum Pada - Majiwada', 'Kalyan', 'Bhayandar East',\n",
              "       'Mira Bhayandar', 'MHADA Colony', 'Chembur Camp', 'Govind Nagar',\n",
              "       'Bhayandar West', 'Beverly Park', 'Worli', 'Nalasopara West',\n",
              "       'Lok Manya Nagar', 'Borivali West', 'Malvani', 'Viva College Road',\n",
              "       'Mira Road', 'New Link Road', 'Sakinaka', 'Dongri', 'MMRDA Area',\n",
              "       'Yashavant Nagar', 'Kandivali East', 'Ghatkopar West',\n",
              "       'Ghodbunder', 'Nahur West', 'CAMA Industrial Estate',\n",
              "       'Anushakti Colony', 'Thane', 'Yari Road', 'Virar East',\n",
              "       'Goregaon East', 'Prabhadevi', 'Andheri West', 'Pandurang Wadi',\n",
              "       'Bandra West', 'Khar West', 'Bolinj', 'Virat Nagar',\n",
              "       'Thane-Kalyan-Dombivli', 'Poonam Gardens', 'Ramdev Park',\n",
              "       'Vinay Nagar', 'Unique Garden', 'Tirupati Nagar',\n",
              "       'Charkop Sector 8', 'Bandra Kurla Complex', 'Mulund West',\n",
              "       'Aarey Milk Colony', 'Bhandup Industrial Estate',\n",
              "       'Oberoi Splendor', 'Charkop Village', 'Malad East', 'Devi Pada',\n",
              "       'Datta Pada', 'Borivali East', 'Jankalyan Nagar', 'Magathane',\n",
              "       'Thakur Village, Kandivali East', 'Samata Nagar', 'Bhandup West',\n",
              "       'Ghatkopar East', 'Kanjurmarg East', 'Vile Parle East',\n",
              "       'Mulund Railway Station', 'Madh', 'Upper Govind Nagar',\n",
              "       'Samta Nagar', 'Bhatti Pada', 'Nandiadwala Colony', 'Gokuldham',\n",
              "       'Powai', 'Kandivali West', 'Lokhandwala Twp', 'Film City Road',\n",
              "       'LBS Marg', 'Mindspace', 'Raheja Vihar', 'Sher E Punjab Society',\n",
              "       'Lokhandwala Complex', 'Vikhroli West', 'Mahavir Nagar',\n",
              "       'Ghatkopar', 'Vikhroli East', 'Dongarpada', 'Sheetal Nagar',\n",
              "       'Hatkesh Udyog', 'Thakur Complex', 'Kannamwar Nagar 2',\n",
              "       'Ashok Nagar Western Mumbai', 'Sion Railway Colony',\n",
              "       'Pratiksha Nagar', 'Ekta Nagar', 'Chandivali', 'Mankhurd',\n",
              "       'Marol Naka', 'Ambernath', 'Gavan Pada', 'Christian Gaon',\n",
              "       'IC Colony', 'Dahisar East', 'Elphinstone', 'Poonam Sagar',\n",
              "       'Asha Nagar', 'Poonam Nagar', 'Tata Nagar', 'Veena Nagar',\n",
              "       'Goregaon West', 'Chembur', '4 Bunglows', 'Vallabh Baug',\n",
              "       'VN Purav Marg', 'Juhu', 'Kanch Pada', 'Santacruz East',\n",
              "       'Vikhroli', 'Unnat Nagar', 'JB Nagar',\n",
              "       'Tilak Nagar - Harbour Line', 'Veera Desai Road',\n",
              "       'Juhu Versova Link', 'Shivaji Nagar Malad East',\n",
              "       'BEST Housing Colony', 'Oshiwara', 'Marol Maroshi', 'Borivali',\n",
              "       'Pant Nagar', 'Netaji Subhash Nagar', 'Link Road',\n",
              "       'Sarvodaya Nagar', 'Powai lake', 'Churi Wadi', 'Bimbisar Nagar',\n",
              "       'Shri Swami Samarth Nagar', 'Nahur East', 'Shastri Nagar',\n",
              "       'D.N. Nagar', 'Best Nagar - Goregaon West', 'Swastik Park',\n",
              "       'Marol', 'Four Bungalows', 'Santacruz West', 'Parel',\n",
              "       'Udyog Nagar', 'Chakala', 'Chakala MIDC', 'Matunga West',\n",
              "       'Central Area', 'Premier Colony', 'Sion East', 'Bhavani Nagar',\n",
              "       'Tunga', 'Wadala', 'Byculla', 'Sion Trombay Road', 'Basant Cinema',\n",
              "       'Vasant Vihar Complex', 'Govandi Station Road',\n",
              "       'Central Avenue Road', 'Bhakti Park', 'Wadala East', 'Versova',\n",
              "       'JVLR-Jogeshwari Vikhroli Link Road', 'Ghatla', 'Union Park',\n",
              "       'Joshi Wadi', 'Vile Parle West', 'Subhash Road', 'Dadar West',\n",
              "       'Matunga', 'Dadar East', 'Andheri Link Road', 'Juhu Beach Area',\n",
              "       'Sewri', 'Deonar', 'Andheri', 'Koyambedu', 'Lower Parel',\n",
              "       'Worli Hill', 'JVPD Scheme', 'Yeshodham', 'MIG Colony',\n",
              "       'Shivaji Park', 'Sai Baba Complex', 'Seven Bungalows',\n",
              "       'Bandra East', 'Saki Vihar Road', 'Atur Park Colony Bungalow',\n",
              "       'Mumbai Central', 'Bhoiwada', 'Wadala West', 'MHADA Vanrai Colony',\n",
              "       'Dadar', 'Worli Sea Face', 'Juhu Vile Parle Development Scheme',\n",
              "       'Parsi Colony', 'Dadar TT Circle', 'MHADA Colony 20', 'Mount Mary',\n",
              "       'Cuffe Parade', 'Kala Nagar', 'Girgaon Chowpatty', 'Linking Road',\n",
              "       'Khar', 'Kamala City', 'Dindoshi', 'Turner Road', 'Mahalakshmi',\n",
              "       'Warden Road', 'Pali Hill', 'Haji Ali', 'Mahim West', 'Pali Naka',\n",
              "       'Perry Rd', 'Mahim', 'Gulmohar Road', 'Gamdevi',\n",
              "       'Panchkutir Ganesh Nagar', 'Kulkarni Chowk', 'Matunga East',\n",
              "       'Carmichael Road', 'Mazgaon', 'Bandra', 'Church Gate',\n",
              "       'Babar Shaikh Chowk', 'Gamadia Colony',\n",
              "       'Worli Naka Acharaya Atre Chowk',\n",
              "       'Shree Siddhivinayak Mandir Chowk', 'Bandra Band Stand',\n",
              "       'Napean Sea Road', 'Upper Worli', 'Teen Batti',\n",
              "       'Mahalaxmi Race Course', 'Waterfield Road', 'Mehboob Studio',\n",
              "       'Elphiston Road Marchant Association Chowk', 'BDD Chawl',\n",
              "       'Nepeansea Road', 'Hanuman Nagar', 'Gamdia Colony Chowk',\n",
              "       'Willingdon Colony', 'Walkeshwar', 'Altamount Road', 'Colaba',\n",
              "       'Saraswat Colony', 'Jacob Circle', 'Sayed Wadi', 'Tardeo',\n",
              "       'Union Park Pali Hill', 'World Trade Centre', 'Malabar Hill',\n",
              "       'Marine Drive', 'Markendeshwar', 'Peddar Road',\n",
              "       'Siddharth Nagar South Mumbai', 'Pedder Road', 'Kemps Corner',\n",
              "       'Breach Candy', 'Juhu Versova Link Road', 'PK Kurne Chowk',\n",
              "       'Carter Road', 'Cumbala Hill',\n",
              "       'Colaba Upper Gateway Of India Area', 'Chikalwadi',\n",
              "       'Pleasant Park', 'Patel Nagar', 'Kurar Village',\n",
              "       'Kannamwar Nagar 1', 'Ekta Nagar Charkop', 'Golden Nest',\n",
              "       'Pimpri Pada', 'Yogi Nagar', 'Kaju Pada', 'Versova Village',\n",
              "       'Vakola', 'Pratiksha Nagar-Sion', 'Chunabhatti', 'Chiku Wadi',\n",
              "       'GTB Nagar', 'Azad Nagar', 'Mulund Colony', 'Jogeshwari West',\n",
              "       'Hill Road Nagar', 'Poisar', 'SSPCG Society',\n",
              "       'Guru Teg Bahadur Nagar', 'Dahisar West', 'Sai Baba Nagar',\n",
              "       'Nagpada', 'Gorai 2', 'Kurla East', 'Ghodapdeo', 'Antop Hill',\n",
              "       'Kandarpada', 'Park Site Colony', 'Kurla West',\n",
              "       'Yogi Jayraj Nagar', 'Raigarh', 'Evershine Nagar', 'Shantivan',\n",
              "       'Orlem', 'Bhandup East', 'Ishwar Nagar', 'Shri Krishana Nagar',\n",
              "       'Sion', 'Nansey Colony', 'Charkop Sector 6', 'Charkop',\n",
              "       'Shell Colony', 'Vaishali Nagar', 'Anand Nagar', 'Eksar',\n",
              "       'Cotton Green Zakaria B', 'NL Complex', 'Akurli Nagar',\n",
              "       'Ram Nagar', 'Siddhartha Nagar', 'Jogeshwari East', 'Kharodi',\n",
              "       'Sardar Nagar No 4', 'Vidya Nagari', 'Asalfa Village JJC',\n",
              "       'Mahakali Nagar', 'Balaji Nagar', 'Nirmal Nagar', 'Parsi Wada',\n",
              "       'Meghwadi', 'Gorai 3', 'Garware Chowk', 'Ashok Van',\n",
              "       'Liberty Garden', 'Mahada Colony', 'Amboli', 'Hindustan Chowk',\n",
              "       'LIC Colony', 'Mandapeshwar', 'Kurla Vidya Vihar Belt',\n",
              "       'MIDC Industrial Estate', 'Everard Nagar', 'Chembur Colony',\n",
              "       'Bandivali', 'Nahur', 'Dattani Park', 'Mulund', 'Fort',\n",
              "       'Rawal Pada', 'Dahisar', 'Gorai 1', 'Grant Road', 'Govandi',\n",
              "       'Navjeevan Wadi', 'Babrekar Nagar', 'Naupada', 'Dockyard Road',\n",
              "       'Dattu Vaidya Nagar', 'Thakurdwar', 'Somvar Bazar',\n",
              "       'Charkop Sector 4', 'Satya Nagar', 'Manohar Phalke Chowk',\n",
              "       'LIC Housing Colony', 'Kalina', 'JL Tambe Nagar',\n",
              "       'Nagari Nivara Parishad', 'Valmik Nagar', 'Panchsheel Nagar',\n",
              "       'Irani Wada', 'Charkop Sector 2', 'Kherwadi', 'Govandi West',\n",
              "       'Kokan Nagar', 'Government Colony', 'Abhinav Nagar',\n",
              "       'Hari Om Nagar', 'Charkop Sector 3', 'Kannamwar Nagar',\n",
              "       'Hanuman Tekdi', 'Rajan Pada', 'Sher-e-Punjab', 'Charkop Sector 1',\n",
              "       'Amar Nagar', 'Postal Colony', 'Prem Nagar', 'Pestom Sagar',\n",
              "       'Chinch Bunder', 'Cheda Nagar', 'Mulji Nagar', 'Sai Nagar',\n",
              "       'Pirojsha Nagar', 'Mahatama Gandhi Road', 'Dhanukar Wadi',\n",
              "       'Tilak Nagar – Central Line', 'Alika Nagar', 'Lal Baug',\n",
              "       'Tata Colony', 'Charkop Industrial Estate', 'Saat Rasta',\n",
              "       'Varsha Nagar', 'Piramal Nagar', 'Kulup Wadi', 'Rajendra Nagar',\n",
              "       'Kondivita Village', 'Sundar Nagar, Kalina', 'Talmakiwadi',\n",
              "       'Deonar Farm Road', 'Natwar Nagar', 'New Tilak Nagar',\n",
              "       'Pillai Chowk', 'Bail Bazar', 'Kurla', 'Satrasta', 'Subhash Nagar',\n",
              "       'Halani Darbar Chowk', 'Vishwakarma Nagar', 'Shimpoli',\n",
              "       'Garodia Nagar', 'Basant Garden', 'Mhatre Wadi', 'Shiv Srishti',\n",
              "       'Khetwadi', 'Marol Maroshi Road', 'Bhandup Village',\n",
              "       'Jagdusha Nagar', 'Chinchpokli', 'P Lokhande Marg',\n",
              "       'Nehru Nagar-Kurla', 'Damodar Park', 'Chheda Nagar', 'Girgaum',\n",
              "       'Sunder Nagar', 'Ghartan Pada', 'Van Mali Sabhagruha Chowk',\n",
              "       'Gangawadi', 'Pathanwadi', 'Bhandup', 'Jogeshwari',\n",
              "       'Masjid Bander West', 'Crawford Market', 'P&T Colony', 'Sadanwadi',\n",
              "       'Pahadi Goregaon East', 'Moti Nagar', 'Kalpak Estate',\n",
              "       'Goverdhan Nagar', 'Mitha Nagar', 'Andheri Kurla Road',\n",
              "       'Navjeevan Colony', 'Haridas Nagar', 'Yeshwant Nagar',\n",
              "       'Govandi East', 'Lokmanya Tilak Nagar', 'Shivaji Nagar',\n",
              "       'Film City', 'Bangur Nagar', 'Jawahar Nagar',\n",
              "       'Amar Mahal Junction', 'Rifle Range', 'Gandhi Nagar', 'Mangalwadi',\n",
              "       'Vile Parle', 'Navagaon', 'Gopal Nagar', 'Yashwant Nagar',\n",
              "       'Tagore Nagar', 'Manish Nagar', 'Kanya Pada',\n",
              "       'Eastern Express Highway', 'Pirojsha Godrej Nagar', 'Pushpa Park',\n",
              "       'Sumer Nagar', 'Babasaheb Worlikar Chowk', 'Gokul Dham',\n",
              "       'Datta Park', 'Bharat Mata Chowk', 'Prem Puriji Chowk',\n",
              "       'Bhim Nagar', 'Collector Colony', 'MHADA Colony Near Yadav Nagar',\n",
              "       'Parle Colony', 'Nadiyawala Colony 2', 'Sakinaka Junction',\n",
              "       'Behram Baug', 'Godrej Hillside Residential Colony',\n",
              "       'Takshila Nagar', 'Tilak Nagar - Central Mumbai', 'Lakme Road',\n",
              "       'Kamani Junction', 'Amrut Nagar', 'Motilal Nagar 1',\n",
              "       'Western Express Hwy', 'Fine Art Chowk', 'Neelam Nagar',\n",
              "       'Rani Laxmibai Chowk', 'Datar Colony', 'Indira Nagar',\n",
              "       'Veera Desai Chowk', 'Valmiki Nagar', 'Suman Nagar', 'Malad',\n",
              "       'Ratan Nagar', 'Surya Nagar', 'Dr N Pai Marg Chowk', 'Mahul Road',\n",
              "       'Khar East', 'Umershet Pada', 'Jaydev Singh Nagar',\n",
              "       'Motilal Nagar 2', 'Kings Circle', 'Malcom Baug', 'Agripada',\n",
              "       'Kandivali', 'Vrindavan', 'Rambaug', 'IIT Colony',\n",
              "       'New Airport Colony', 'Santosh Nagar', 'Gogate Wadi',\n",
              "       'Godrej Station Road Colony', 'Motilal Nagar 3', 'Kumud Nagar',\n",
              "       'Null Bazar', 'Swami Vivekanand Chowk', 'King Circle',\n",
              "       'Kamgar Nagar', 'Jijamate Chowk', 'Jeejamata Road',\n",
              "       'Chincholi Pathak-Mallad', 'Azad Nagar 2', 'Gandhi Market', 'Irla',\n",
              "       'Model Town', 'Kanti Nagar', 'Customs Colony', 'Mathuradas Colony',\n",
              "       'Sindhi Colony', 'Golibar', 'Mahim Bay', 'BS Ambedkar Nagar',\n",
              "       'Kothu Wadi', 'Motilal Nagar', 'C Gidwani Marg Chowk',\n",
              "       'R Mehta Chowk', 'Sion Hospital Colony', 'Phase D, Shastri Nagar',\n",
              "       'Charni Road', 'Girgaon', 'Adarsh Nagar', 'Rajawadi',\n",
              "       'Shreyas Colony', 'Vishveshwar Nagar', 'Juhu Tara Road',\n",
              "       'Marine Lines', 'Nai Gaon', 'Five Gardens', 'Gilbert Hill JJC',\n",
              "       'Erangal', 'Shivneri Nagar', 'Chembur Village', 'Lallu Bhai Park',\n",
              "       'Kalina University', 'Paranjape Nagar', 'Mazagaon', 'Jeevan Nagar',\n",
              "       'Marol Naka Junction', 'Police Camp Worli Sea Face',\n",
              "       'Bhawani Shankar', 'Datta Guru Society', 'Abhyudaya Nagar',\n",
              "       'Nana Chowk', 'Hill Rd', 'Mota Nagar',\n",
              "       'Kabutarkhana Purandare Chowk', 'Chira Bazaar', 'Millat Nagar',\n",
              "       'Uppar Colaba', 'Hindu Colony', 'S Haralayya Chowk',\n",
              "       'Bharat Nagar', 'Grant Road Area', 'Prabhat Colony',\n",
              "       'Veera Desai Industrial Estate', 'Vaibhav Nagar', 'Thakkar Estate',\n",
              "       'Air India Colony', 'Opera House', 'Hasmukh Nagar', 'Wadia Baug',\n",
              "       'MSES Colony', 'Bandra Reclamation', 'Navy Nagar', 'Gokhale Rd',\n",
              "       'Sasoon Dock', 'Jeet Nagar', 'Kashinath Ghanekar Chowk',\n",
              "       'Narayan Pujari Colony', 'Colaba Upper Apollo Bunder',\n",
              "       'Siddharth Nagar Central Mumbai', 'Holy Family Hospital',\n",
              "       'Hughes Road', 'Nana Chowk Grant Road', 'Carter Rd',\n",
              "       \"St Paul's Rd\", 'Dalit Nagar', 'Hanging Garden', 'Chowpatty Area',\n",
              "       'Churchgate station', 'Kanjurmarg', 'Boisar West', 'Bhatwadi',\n",
              "       'Vithal Wadi', 'Kadam Nagar', 'Khanda Colony',\n",
              "       'Tarun Bharat Society', 'Palava', 'Navi Mumbai-Khargar-Panvel',\n",
              "       'Y K Nagar', 'Sambhaji Nagar', 'Indralok', 'Ghodbandar Village',\n",
              "       'Srishti Complex', 'Geeta Nagar', 'Sane Guruji Nagar',\n",
              "       'Damble Colony', 'Friends Colony', 'Babhai Naka', 'Sahyadri Nagar',\n",
              "       'Mahatre Wadi', 'AAI Residential Complex', 'Vasant Vihar',\n",
              "       'Ganesh Nagar JJC Area', 'Maharashtra Nagar', 'Charkop Sector 7',\n",
              "       'Vazira Naka', 'Ashok Nagar', 'Pratikhsha Nagar', 'Kamgar Colony',\n",
              "       'Charkop Sector 5', 'Dattani Nagar', 'Vini Garden', 'Munjar Nagar',\n",
              "       'Lok Housing Colony', 'Sardar Nagar', 'Vidya Vihar West',\n",
              "       'Sindhu Wadi', 'Christian Colony', 'Marve', 'Kastur Park',\n",
              "       'Priyadarshini Chowk', 'Jaganade Chowk', 'Nagesh Patliwadi',\n",
              "       'Chikuwadi', 'Jayprakash Nagar', 'Bhandarwada', 'Kasam Baug',\n",
              "       'Vazir Naka', 'Savarkar Chowk', 'Holly Cross Church Chowk',\n",
              "       'Azad Nagar Versova Road', 'Nahur Gaothan',\n",
              "       'Tilak Nagar - Western Suburb', 'Pathanwadi - Kurur Village',\n",
              "       'Kora Kendra', 'Nehru Nagar - Juhu', 'Ganesh Nagar',\n",
              "       'Kanjurmarg West', 'Kokani Pada', 'Crompton Greaves', 'Gundavali',\n",
              "       'Acharya A Maharaj Chowk', 'Eden Gardens', 'Sen Nagar',\n",
              "       'Azad Nagar JJC', 'Ghatla Chowk', 'SV Patel Nagar',\n",
              "       'Hanuman Tekdi - Goregaon East', 'Sahakar Nagar', 'Tanajiwadi',\n",
              "       'Nityanand Nagar', 'Fertiliser Township', 'Bamandaya Pada',\n",
              "       'Deonar Pada', 'VSNL Colony', 'Nadkarni Park', 'Sham Nagar',\n",
              "       'Digambar Jain Mandir Chowk', 'New Nagardas Road', 'Laxmi Nagar',\n",
              "       'Shri Nagar', 'Hariyali', 'Ambedkar Garden', 'Indian Oil Nagar',\n",
              "       'PMGP Colony', 'Sainath Nagar', 'Hanuman Road', 'Dr CG Rd',\n",
              "       'Maheshwari Chowk', 'Pirojshah Nagar', 'Banjar Pada, Dindoshi',\n",
              "       'Acharya Nagar', 'Safed Pul', 'RCF Colony', 'Paspoli Dongri Pada',\n",
              "       'RTO Colony', 'Kherwadi Junction', 'MHADA Colony Milat Nagar',\n",
              "       'Sandesh Nagar', 'Kohinoor Compound', 'Acharya Tulsi Chowk',\n",
              "       'BR Ambedkar Chowk', 'Agari Pada', 'Laxmi Industrial Estate',\n",
              "       'Amit Nagar', 'Mukund Nagar', 'Kamala Nagar', 'Sector 86',\n",
              "       'Parmanand Wadi', 'Agarkar Chowk', 'Gondavali Gaothan',\n",
              "       'Godrej Colony', 'Teachers Colony', 'Kolivary', 'Pingle Chowk',\n",
              "       'Danda', 'Khar Danda', 'Mazagaon Dock', 'Juhu Tara',\n",
              "       'Vithaldas Nagar', 'Santacruz', 'Sangeet Mahabharati Chowk',\n",
              "       'BPT Colony', 'Goregaon', 'Worli Tip',\n",
              "       'Police Colony Worli Sea Face', 'S Savarkar Chowk',\n",
              "       'CA Narayan Chowk', 'Dinar Kadekar Chowk',\n",
              "       'Bhagwan Parshwanath Chowk', 'Ambewadi', 'DS Chowk', 'Ranwar',\n",
              "       'Cursow Baug', 'Juhu Koliwada', 'Dr Veersen J Ruparel Chowk',\n",
              "       'Rebello Rd', 'Late Sadashivrao Shirke Chowk', 'Old Khar',\n",
              "       'Kowli Chowk', 'Regal Chowk', 'Babulnath Chowk',\n",
              "       'Advocate Devarshi N Khuman Chowk', 'Nariman Point',\n",
              "       'Water Field Road', 'Bhulabhai Desai Marg', 'Gowalia Tank',\n",
              "       'Naigaon West', 'Mahul', 'Liliya Nagar', 'Daulat Nagar',\n",
              "       'Sukar Wadi', 'Aksa Gaon', 'Ambedkar Nagar', 'Lower Govind Nagar',\n",
              "       'MTNL Colony', 'Chinch Pada', 'Nirmal Nagar-Central Line',\n",
              "       'Dhanji Wadi', 'Seepz Area', 'Gautam Nagar', 'Vidya Vihar',\n",
              "       'Vijay Nagar', 'Vivekanand Colony', 'Sai Wadi', 'R K Studio',\n",
              "       'Kirol Village', 'Railway Colony Bandra Terminus', 'R C Marg',\n",
              "       'Ulhasnagar', 'Koladongri', 'L Tilak Colony',\n",
              "       'Air India Staff Colony 2', 'Shirley', 'Fanaswadi',\n",
              "       'Sir Bhalchandra Chowk', 'Metro Cinema Chowk', 'Ahimsa Nagar',\n",
              "       'Vasant Kunj', 'Dr Babasaheb Ambedkar Govt Hos',\n",
              "       'Railway Colony Pali Hill', 'Adv RD Kowte Chowk', 'Lotus Colony',\n",
              "       'Architect Vidyadhar Mhatre Chowk', 'Haji Ali Junction',\n",
              "       'Brhmanwada', 'Zeezamata Nagar',\n",
              "       'Indian Medical Association Chowk', 'Abhishek Nagar', 'Mantralaya',\n",
              "       'Rotary Chowk', 'Barrister Rajni Patel Chowk', 'BD Somani Chowk',\n",
              "       'Koliwadi', 'Rohidas Chowk', 'Shiv Sagar Estate', 'Purandarwadi',\n",
              "       'Priyadarshini Park', 'Teen Batti Chowk', 'Oberoi', 'Ramji Nagar',\n",
              "       'Nimoni Baug'], dtype=object)"
            ]
          },
          "metadata": {
            "tags": []
          },
          "execution_count": 207
        }
      ]
    },
    {
      "cell_type": "code",
      "metadata": {
        "id": "xJPgWsem22OO",
        "colab_type": "code",
        "colab": {}
      },
      "source": [
        "df_final_copy = df_final1.copy()"
      ],
      "execution_count": 208,
      "outputs": []
    },
    {
      "cell_type": "markdown",
      "metadata": {
        "id": "Yl2XTuWK22OS",
        "colab_type": "text"
      },
      "source": [
        "# <font color = black>Deleting terms like \"West\" and \"East\" from the address of the property. The below function is written for the same.</font>"
      ]
    },
    {
      "cell_type": "code",
      "metadata": {
        "id": "J1MAkBn722OT",
        "colab_type": "code",
        "colab": {}
      },
      "source": [
        "def local(x):\n",
        "    name = \"\"\n",
        "    if \"west\" in x.lower() or \"east\" in x.lower():\n",
        "        a = x.split()\n",
        "        b = a.pop()\n",
        "        for s in a:\n",
        "            name = name+s\n",
        "        return name\n",
        "    else:\n",
        "        return x"
      ],
      "execution_count": 209,
      "outputs": []
    },
    {
      "cell_type": "markdown",
      "metadata": {
        "id": "GPFKHVzQ22OX",
        "colab_type": "text"
      },
      "source": [
        "# <font color = black>Cheking if the function works properly before applying it on the dataset.</font>"
      ]
    },
    {
      "cell_type": "code",
      "metadata": {
        "id": "914Z-I_722OY",
        "colab_type": "code",
        "colab": {
          "base_uri": "https://localhost:8080/",
          "height": 35
        },
        "outputId": "5551e2b6-4f27-4c75-f5d4-705c39493673"
      },
      "source": [
        "print(local(\"Borivali East\"))"
      ],
      "execution_count": 210,
      "outputs": [
        {
          "output_type": "stream",
          "text": [
            "Borivali\n"
          ],
          "name": "stdout"
        }
      ]
    },
    {
      "cell_type": "markdown",
      "metadata": {
        "id": "e2Oxkf7m22Od",
        "colab_type": "text"
      },
      "source": [
        "# <font color = black>Applying the function on our dataset</font>"
      ]
    },
    {
      "cell_type": "code",
      "metadata": {
        "id": "glqHN5YW22Od",
        "colab_type": "code",
        "colab": {
          "base_uri": "https://localhost:8080/",
          "height": 1000
        },
        "outputId": "b070b7a7-b2ba-4710-9bd2-f47c145b5e38"
      },
      "source": [
        "df_final_copy[\"locality\"] = df[\"locality\"].apply(lambda x:local(str(x)))\n",
        "df_final_copy[\"locality\"].unique()"
      ],
      "execution_count": 211,
      "outputs": [
        {
          "output_type": "execute_result",
          "data": {
            "text/plain": [
              "array(['Malad', 'Vasai', 'Virar', 'Naigaon', 'Royal Palms Estate',\n",
              "       'Nalasopara', 'Silver Park', 'Andheri', 'Mulund',\n",
              "       'Balkum Pada - Majiwada', 'Kalyan', 'Bhayandar', 'Mira Bhayandar',\n",
              "       'MHADA Colony', 'Chembur Camp', 'Govind Nagar', 'Beverly Park',\n",
              "       'Worli', 'Lok Manya Nagar', 'Borivali', 'Malvani',\n",
              "       'Viva College Road', 'Mira Road', 'New Link Road', 'Sakinaka',\n",
              "       'Dongri', 'MMRDA Area', 'Yashavant Nagar', 'Kandivali',\n",
              "       'Ghatkopar', 'Ghodbunder', 'Nahur', 'CAMA Industrial Estate',\n",
              "       'Anushakti Colony', 'Thane', 'Yari Road', 'Goregaon', 'Prabhadevi',\n",
              "       'Pandurang Wadi', 'Bandra', 'Khar', 'Bolinj', 'Virat Nagar',\n",
              "       'Thane-Kalyan-Dombivli', 'Poonam Gardens', 'Ramdev Park',\n",
              "       'Vinay Nagar', 'Unique Garden', 'Tirupati Nagar',\n",
              "       'Charkop Sector 8', 'Bandra Kurla Complex', 'Aarey Milk Colony',\n",
              "       'Bhandup Industrial Estate', 'Oberoi Splendor', 'Charkop Village',\n",
              "       'Devi Pada', 'Datta Pada', 'Jankalyan Nagar', 'Magathane',\n",
              "       'ThakurVillage,Kandivali', 'Samata Nagar', 'Bhandup', 'Kanjurmarg',\n",
              "       'VileParle', 'Mulund Railway Station', 'Madh',\n",
              "       'Upper Govind Nagar', 'Samta Nagar', 'Bhatti Pada',\n",
              "       'Nandiadwala Colony', 'Gokuldham', 'Powai', 'Lokhandwala Twp',\n",
              "       'Film City Road', 'LBS Marg', 'Mindspace', 'Raheja Vihar',\n",
              "       'Sher E Punjab Society', 'Lokhandwala Complex', 'Vikhroli',\n",
              "       'Mahavir Nagar', 'Dongarpada', 'Sheetal Nagar', 'Hatkesh Udyog',\n",
              "       'Thakur Complex', 'Kannamwar Nagar 2', 'AshokNagarWestern',\n",
              "       'Sion Railway Colony', 'Pratiksha Nagar', 'Ekta Nagar',\n",
              "       'Chandivali', 'Mankhurd', 'Marol Naka', 'Ambernath', 'Gavan Pada',\n",
              "       'Christian Gaon', 'IC Colony', 'Dahisar', 'Elphinstone',\n",
              "       'Poonam Sagar', 'Asha Nagar', 'Poonam Nagar', 'Tata Nagar',\n",
              "       'Veena Nagar', 'Chembur', '4 Bunglows', 'Vallabh Baug',\n",
              "       'VN Purav Marg', 'Juhu', 'Kanch Pada', 'Santacruz', 'Unnat Nagar',\n",
              "       'JB Nagar', 'Tilak Nagar - Harbour Line', 'Veera Desai Road',\n",
              "       'Juhu Versova Link', 'ShivajiNagarMalad', 'BEST Housing Colony',\n",
              "       'Oshiwara', 'Marol Maroshi', 'Pant Nagar', 'Netaji Subhash Nagar',\n",
              "       'Link Road', 'Sarvodaya Nagar', 'Powai lake', 'Churi Wadi',\n",
              "       'Bimbisar Nagar', 'Shri Swami Samarth Nagar', 'Shastri Nagar',\n",
              "       'D.N. Nagar', 'BestNagar-Goregaon', 'Swastik Park', 'Marol',\n",
              "       'Four Bungalows', 'Parel', 'Udyog Nagar', 'Chakala',\n",
              "       'Chakala MIDC', 'Matunga', 'Central Area', 'Premier Colony',\n",
              "       'Sion', 'Bhavani Nagar', 'Tunga', 'Wadala', 'Byculla',\n",
              "       'Sion Trombay Road', 'Basant Cinema', 'Vasant Vihar Complex',\n",
              "       'Govandi Station Road', 'Central Avenue Road', 'Bhakti Park',\n",
              "       'Versova', 'JVLR-Jogeshwari Vikhroli Link Road', 'Ghatla',\n",
              "       'Union Park', 'Joshi Wadi', 'Subhash Road', 'Dadar',\n",
              "       'Andheri Link Road', 'Juhu Beach Area', 'Sewri', 'Deonar',\n",
              "       'Koyambedu', 'Lower Parel', 'Worli Hill', 'JVPD Scheme',\n",
              "       'Yeshodham', 'MIG Colony', 'Shivaji Park', 'Sai Baba Complex',\n",
              "       'Seven Bungalows', 'Saki Vihar Road', 'Atur Park Colony Bungalow',\n",
              "       'Mumbai Central', 'Bhoiwada', 'MHADA Vanrai Colony',\n",
              "       'Worli Sea Face', 'Juhu Vile Parle Development Scheme',\n",
              "       'Parsi Colony', 'Dadar TT Circle', 'MHADA Colony 20', 'Mount Mary',\n",
              "       'Cuffe Parade', 'Kala Nagar', 'Girgaon Chowpatty', 'Linking Road',\n",
              "       'Kamala City', 'Dindoshi', 'Turner Road', 'Mahalakshmi',\n",
              "       'Warden Road', 'Pali Hill', 'Haji Ali', 'Mahim', 'Pali Naka',\n",
              "       'Perry Rd', 'Gulmohar Road', 'Gamdevi', 'Panchkutir Ganesh Nagar',\n",
              "       'Kulkarni Chowk', 'Carmichael Road', 'Mazgaon', 'Church Gate',\n",
              "       'Babar Shaikh Chowk', 'Gamadia Colony',\n",
              "       'Worli Naka Acharaya Atre Chowk',\n",
              "       'Shree Siddhivinayak Mandir Chowk', 'Bandra Band Stand',\n",
              "       'Napean Sea Road', 'Upper Worli', 'Teen Batti',\n",
              "       'Mahalaxmi Race Course', 'Waterfield Road', 'Mehboob Studio',\n",
              "       'Elphiston Road Marchant Association Chowk', 'BDD Chawl',\n",
              "       'Nepeansea Road', 'Hanuman Nagar', 'Gamdia Colony Chowk',\n",
              "       'Willingdon Colony', 'Walkeshwar', 'Altamount Road', 'Colaba',\n",
              "       'Saraswat Colony', 'Jacob Circle', 'Sayed Wadi', 'Tardeo',\n",
              "       'Union Park Pali Hill', 'World Trade Centre', 'Malabar Hill',\n",
              "       'Marine Drive', 'Markendeshwar', 'Peddar Road',\n",
              "       'Siddharth Nagar South Mumbai', 'Pedder Road', 'Kemps Corner',\n",
              "       'Breach Candy', 'Juhu Versova Link Road', 'PK Kurne Chowk',\n",
              "       'Carter Road', 'Cumbala Hill',\n",
              "       'Colaba Upper Gateway Of India Area', 'Chikalwadi',\n",
              "       'Pleasant Park', 'Patel Nagar', 'Kurar Village',\n",
              "       'Kannamwar Nagar 1', 'Ekta Nagar Charkop', 'Golden Nest',\n",
              "       'Pimpri Pada', 'Yogi Nagar', 'Kaju Pada', 'Versova Village',\n",
              "       'Vakola', 'Pratiksha Nagar-Sion', 'Chunabhatti', 'Chiku Wadi',\n",
              "       'GTB Nagar', 'Azad Nagar', 'Mulund Colony', 'Jogeshwari',\n",
              "       'Hill Road Nagar', 'Poisar', 'SSPCG Society',\n",
              "       'Guru Teg Bahadur Nagar', 'Sai Baba Nagar', 'Nagpada', 'Gorai 2',\n",
              "       'Kurla', 'Ghodapdeo', 'Antop Hill', 'Kandarpada',\n",
              "       'Park Site Colony', 'Yogi Jayraj Nagar', 'Raigarh',\n",
              "       'Evershine Nagar', 'Shantivan', 'Orlem', 'Ishwar Nagar',\n",
              "       'Shri Krishana Nagar', 'Nansey Colony', 'Charkop Sector 6',\n",
              "       'Charkop', 'Shell Colony', 'Vaishali Nagar', 'Anand Nagar',\n",
              "       'Eksar', 'Cotton Green Zakaria B', 'NL Complex', 'Akurli Nagar',\n",
              "       'Ram Nagar', 'Siddhartha Nagar', 'Kharodi', 'Sardar Nagar No 4',\n",
              "       'Vidya Nagari', 'Asalfa Village JJC', 'Mahakali Nagar',\n",
              "       'Balaji Nagar', 'Nirmal Nagar', 'Parsi Wada', 'Meghwadi',\n",
              "       'Gorai 3', 'Garware Chowk', 'Ashok Van', 'Liberty Garden',\n",
              "       'Mahada Colony', 'Amboli', 'Hindustan Chowk', 'LIC Colony',\n",
              "       'Mandapeshwar', 'Kurla Vidya Vihar Belt', 'MIDC Industrial Estate',\n",
              "       'Everard Nagar', 'Chembur Colony', 'Bandivali', 'Dattani Park',\n",
              "       'Fort', 'Rawal Pada', 'Gorai 1', 'Grant Road', 'Govandi',\n",
              "       'Navjeevan Wadi', 'Babrekar Nagar', 'Naupada', 'Dockyard Road',\n",
              "       'Dattu Vaidya Nagar', 'Thakurdwar', 'Somvar Bazar',\n",
              "       'Charkop Sector 4', 'Satya Nagar', 'Manohar Phalke Chowk',\n",
              "       'LIC Housing Colony', 'Kalina', 'JL Tambe Nagar',\n",
              "       'Nagari Nivara Parishad', 'Valmik Nagar', 'Panchsheel Nagar',\n",
              "       'Irani Wada', 'Charkop Sector 2', 'Kherwadi', 'Kokan Nagar',\n",
              "       'Government Colony', 'Abhinav Nagar', 'Hari Om Nagar',\n",
              "       'Charkop Sector 3', 'Kannamwar Nagar', 'Hanuman Tekdi',\n",
              "       'Rajan Pada', 'Sher-e-Punjab', 'Charkop Sector 1', 'Amar Nagar',\n",
              "       'Postal Colony', 'Prem Nagar', 'Pestom Sagar', 'Chinch Bunder',\n",
              "       'Cheda Nagar', 'Mulji Nagar', 'Sai Nagar', 'Pirojsha Nagar',\n",
              "       'Mahatama Gandhi Road', 'Dhanukar Wadi',\n",
              "       'Tilak Nagar – Central Line', 'Alika Nagar', 'Lal Baug',\n",
              "       'Tata Colony', 'Charkop Industrial Estate', 'Saat Rasta',\n",
              "       'Varsha Nagar', 'Piramal Nagar', 'Kulup Wadi', 'Rajendra Nagar',\n",
              "       'Kondivita Village', 'Sundar Nagar, Kalina', 'Talmakiwadi',\n",
              "       'Deonar Farm Road', 'Natwar Nagar', 'New Tilak Nagar',\n",
              "       'Pillai Chowk', 'Bail Bazar', 'Satrasta', 'Subhash Nagar',\n",
              "       'Halani Darbar Chowk', 'Vishwakarma Nagar', 'Shimpoli',\n",
              "       'Garodia Nagar', 'Basant Garden', 'Mhatre Wadi', 'Shiv Srishti',\n",
              "       'Khetwadi', 'Marol Maroshi Road', 'Bhandup Village',\n",
              "       'Jagdusha Nagar', 'Chinchpokli', 'P Lokhande Marg',\n",
              "       'Nehru Nagar-Kurla', 'Damodar Park', 'Chheda Nagar', 'Girgaum',\n",
              "       'Sunder Nagar', 'Ghartan Pada', 'Van Mali Sabhagruha Chowk',\n",
              "       'Gangawadi', 'Pathanwadi', 'MasjidBander', 'Crawford Market',\n",
              "       'P&T Colony', 'Sadanwadi', 'PahadiGoregaon', 'Moti Nagar',\n",
              "       'Kalpak Estate', 'Goverdhan Nagar', 'Mitha Nagar',\n",
              "       'Andheri Kurla Road', 'Navjeevan Colony', 'Haridas Nagar',\n",
              "       'Yeshwant Nagar', 'Lokmanya Tilak Nagar', 'Shivaji Nagar',\n",
              "       'Film City', 'Bangur Nagar', 'Jawahar Nagar',\n",
              "       'Amar Mahal Junction', 'Rifle Range', 'Gandhi Nagar', 'Mangalwadi',\n",
              "       'Vile Parle', 'Navagaon', 'Gopal Nagar', 'Yashwant Nagar',\n",
              "       'Tagore Nagar', 'Manish Nagar', 'Kanya Pada', 'EasternExpress',\n",
              "       'Pirojsha Godrej Nagar', 'Pushpa Park', 'Sumer Nagar',\n",
              "       'Babasaheb Worlikar Chowk', 'Gokul Dham', 'Datta Park',\n",
              "       'Bharat Mata Chowk', 'Prem Puriji Chowk', 'Bhim Nagar',\n",
              "       'Collector Colony', 'MHADA Colony Near Yadav Nagar',\n",
              "       'Parle Colony', 'Nadiyawala Colony 2', 'Sakinaka Junction',\n",
              "       'Behram Baug', 'Godrej Hillside Residential Colony',\n",
              "       'Takshila Nagar', 'Tilak Nagar - Central Mumbai', 'Lakme Road',\n",
              "       'Kamani Junction', 'Amrut Nagar', 'Motilal Nagar 1',\n",
              "       'WesternExpress', 'Fine Art Chowk', 'Neelam Nagar',\n",
              "       'Rani Laxmibai Chowk', 'Datar Colony', 'Indira Nagar',\n",
              "       'Veera Desai Chowk', 'Valmiki Nagar', 'Suman Nagar', 'Ratan Nagar',\n",
              "       'Surya Nagar', 'Dr N Pai Marg Chowk', 'Mahul Road',\n",
              "       'Umershet Pada', 'Jaydev Singh Nagar', 'Motilal Nagar 2',\n",
              "       'Kings Circle', 'Malcom Baug', 'Agripada', 'Vrindavan', 'Rambaug',\n",
              "       'IIT Colony', 'New Airport Colony', 'Santosh Nagar', 'Gogate Wadi',\n",
              "       'Godrej Station Road Colony', 'Motilal Nagar 3', 'Kumud Nagar',\n",
              "       'Null Bazar', 'Swami Vivekanand Chowk', 'King Circle',\n",
              "       'Kamgar Nagar', 'Jijamate Chowk', 'Jeejamata Road',\n",
              "       'Chincholi Pathak-Mallad', 'Azad Nagar 2', 'Gandhi Market', 'Irla',\n",
              "       'Model Town', 'Kanti Nagar', 'Customs Colony', 'Mathuradas Colony',\n",
              "       'Sindhi Colony', 'Golibar', 'Mahim Bay', 'BS Ambedkar Nagar',\n",
              "       'Kothu Wadi', 'Motilal Nagar', 'C Gidwani Marg Chowk',\n",
              "       'R Mehta Chowk', 'Sion Hospital Colony', 'Phase D, Shastri Nagar',\n",
              "       'Charni Road', 'Girgaon', 'Adarsh Nagar', 'Rajawadi',\n",
              "       'Shreyas Colony', 'Vishveshwar Nagar', 'Juhu Tara Road',\n",
              "       'Marine Lines', 'Nai Gaon', 'Five Gardens', 'Gilbert Hill JJC',\n",
              "       'Erangal', 'Shivneri Nagar', 'Chembur Village', 'Lallu Bhai Park',\n",
              "       'Kalina University', 'Paranjape Nagar', 'Mazagaon', 'Jeevan Nagar',\n",
              "       'Marol Naka Junction', 'Police Camp Worli Sea Face',\n",
              "       'Bhawani Shankar', 'Datta Guru Society', 'Abhyudaya Nagar',\n",
              "       'Nana Chowk', 'Hill Rd', 'Mota Nagar',\n",
              "       'Kabutarkhana Purandare Chowk', 'Chira Bazaar', 'Millat Nagar',\n",
              "       'Uppar Colaba', 'Hindu Colony', 'S Haralayya Chowk',\n",
              "       'Bharat Nagar', 'Grant Road Area', 'Prabhat Colony',\n",
              "       'Veera Desai Industrial Estate', 'Vaibhav Nagar', 'Thakkar Estate',\n",
              "       'Air India Colony', 'Opera House', 'Hasmukh Nagar', 'Wadia Baug',\n",
              "       'MSES Colony', 'Bandra Reclamation', 'Navy Nagar', 'Gokhale Rd',\n",
              "       'Sasoon Dock', 'Jeet Nagar', 'Kashinath Ghanekar Chowk',\n",
              "       'Narayan Pujari Colony', 'Colaba Upper Apollo Bunder',\n",
              "       'Siddharth Nagar Central Mumbai', 'Holy Family Hospital',\n",
              "       'Hughes Road', 'Nana Chowk Grant Road', 'Carter Rd',\n",
              "       \"St Paul's Rd\", 'Dalit Nagar', 'Hanging Garden', 'Chowpatty Area',\n",
              "       'Churchgate station', 'Boisar', 'Bhatwadi', 'Vithal Wadi',\n",
              "       'Kadam Nagar', 'Khanda Colony', 'Tarun Bharat Society', 'Palava',\n",
              "       'Navi Mumbai-Khargar-Panvel', 'Y K Nagar', 'Sambhaji Nagar',\n",
              "       'Indralok', 'Ghodbandar Village', 'Srishti Complex', 'Geeta Nagar',\n",
              "       'Sane Guruji Nagar', 'Damble Colony', 'Friends Colony',\n",
              "       'Babhai Naka', 'Sahyadri Nagar', 'Mahatre Wadi',\n",
              "       'AAI Residential Complex', 'Vasant Vihar', 'Ganesh Nagar JJC Area',\n",
              "       'Maharashtra Nagar', 'Charkop Sector 7', 'Vazira Naka',\n",
              "       'Ashok Nagar', 'Pratikhsha Nagar', 'Kamgar Colony',\n",
              "       'Charkop Sector 5', 'Dattani Nagar', 'Vini Garden', 'Munjar Nagar',\n",
              "       'Lok Housing Colony', 'Sardar Nagar', 'VidyaVihar', 'Sindhu Wadi',\n",
              "       'Christian Colony', 'Marve', 'Kastur Park', 'Priyadarshini Chowk',\n",
              "       'Jaganade Chowk', 'Nagesh Patliwadi', 'Chikuwadi',\n",
              "       'Jayprakash Nagar', 'Bhandarwada', 'Kasam Baug', 'Vazir Naka',\n",
              "       'Savarkar Chowk', 'Holly Cross Church Chowk',\n",
              "       'Azad Nagar Versova Road', 'Nahur Gaothan', 'TilakNagar-Western',\n",
              "       'Pathanwadi - Kurur Village', 'Kora Kendra', 'Nehru Nagar - Juhu',\n",
              "       'Ganesh Nagar', 'Kokani Pada', 'Crompton Greaves', 'Gundavali',\n",
              "       'Acharya A Maharaj Chowk', 'Eden Gardens', 'Sen Nagar',\n",
              "       'Azad Nagar JJC', 'Ghatla Chowk', 'SV Patel Nagar',\n",
              "       'HanumanTekdi-Goregaon', 'Sahakar Nagar', 'Tanajiwadi',\n",
              "       'Nityanand Nagar', 'Fertiliser Township', 'Bamandaya Pada',\n",
              "       'Deonar Pada', 'VSNL Colony', 'Nadkarni Park', 'Sham Nagar',\n",
              "       'Digambar Jain Mandir Chowk', 'New Nagardas Road', 'Laxmi Nagar',\n",
              "       'Shri Nagar', 'Hariyali', 'Ambedkar Garden', 'Indian Oil Nagar',\n",
              "       'PMGP Colony', 'Sainath Nagar', 'Hanuman Road', 'Dr CG Rd',\n",
              "       'Maheshwari Chowk', 'Pirojshah Nagar', 'Banjar Pada, Dindoshi',\n",
              "       'Acharya Nagar', 'Safed Pul', 'RCF Colony', 'Paspoli Dongri Pada',\n",
              "       'RTO Colony', 'Kherwadi Junction', 'MHADA Colony Milat Nagar',\n",
              "       'Sandesh Nagar', 'Kohinoor Compound', 'Acharya Tulsi Chowk',\n",
              "       'BR Ambedkar Chowk', 'Agari Pada', 'Laxmi Industrial Estate',\n",
              "       'Amit Nagar', 'Mukund Nagar', 'Kamala Nagar', 'Sector 86',\n",
              "       'Parmanand Wadi', 'Agarkar Chowk', 'Gondavali Gaothan',\n",
              "       'Godrej Colony', 'Teachers Colony', 'Kolivary', 'Pingle Chowk',\n",
              "       'Danda', 'Khar Danda', 'Mazagaon Dock', 'Juhu Tara',\n",
              "       'Vithaldas Nagar', 'Sangeet Mahabharati Chowk', 'BPT Colony',\n",
              "       'Worli Tip', 'Police Colony Worli Sea Face', 'S Savarkar Chowk',\n",
              "       'CA Narayan Chowk', 'Dinar Kadekar Chowk',\n",
              "       'Bhagwan Parshwanath Chowk', 'Ambewadi', 'DS Chowk', 'Ranwar',\n",
              "       'Cursow Baug', 'Juhu Koliwada', 'Dr Veersen J Ruparel Chowk',\n",
              "       'Rebello Rd', 'Late Sadashivrao Shirke Chowk', 'Old Khar',\n",
              "       'Kowli Chowk', 'Regal Chowk', 'Babulnath Chowk',\n",
              "       'Advocate Devarshi N Khuman Chowk', 'Nariman Point',\n",
              "       'Water Field Road', 'Bhulabhai Desai Marg', 'Gowalia Tank',\n",
              "       'Mahul', 'Liliya Nagar', 'Daulat Nagar', 'Sukar Wadi', 'Aksa Gaon',\n",
              "       'Ambedkar Nagar', 'Lower Govind Nagar', 'MTNL Colony',\n",
              "       'Chinch Pada', 'Nirmal Nagar-Central Line', 'Dhanji Wadi',\n",
              "       'Seepz Area', 'Gautam Nagar', 'Vidya Vihar', 'Vijay Nagar',\n",
              "       'Vivekanand Colony', 'Sai Wadi', 'R K Studio', 'Kirol Village',\n",
              "       'Railway Colony Bandra Terminus', 'R C Marg', 'Ulhasnagar',\n",
              "       'Koladongri', 'L Tilak Colony', 'Air India Staff Colony 2',\n",
              "       'Shirley', 'Fanaswadi', 'Sir Bhalchandra Chowk',\n",
              "       'Metro Cinema Chowk', 'Ahimsa Nagar', 'Vasant Kunj',\n",
              "       'Dr Babasaheb Ambedkar Govt Hos', 'Railway Colony Pali Hill',\n",
              "       'Adv RD Kowte Chowk', 'Lotus Colony',\n",
              "       'Architect Vidyadhar Mhatre Chowk', 'Haji Ali Junction',\n",
              "       'Brhmanwada', 'Zeezamata Nagar',\n",
              "       'Indian Medical Association Chowk', 'Abhishek Nagar', 'Mantralaya',\n",
              "       'Rotary Chowk', 'Barrister Rajni Patel Chowk', 'BD Somani Chowk',\n",
              "       'Koliwadi', 'Rohidas Chowk', 'Shiv Sagar Estate', 'Purandarwadi',\n",
              "       'Priyadarshini Park', 'Teen Batti Chowk', 'Oberoi', 'Ramji Nagar',\n",
              "       'Nimoni Baug'], dtype=object)"
            ]
          },
          "metadata": {
            "tags": []
          },
          "execution_count": 211
        }
      ]
    },
    {
      "cell_type": "code",
      "metadata": {
        "id": "le7PHPy222Om",
        "colab_type": "code",
        "colab": {
          "base_uri": "https://localhost:8080/",
          "height": 35
        },
        "outputId": "7f294efc-2927-431d-d7cc-04946de45d79"
      },
      "source": [
        "df_final_copy[\"area\"].unique()"
      ],
      "execution_count": 212,
      "outputs": [
        {
          "output_type": "execute_result",
          "data": {
            "text/plain": [
              "array([350., 652., 635., ..., 150., 663., 642.])"
            ]
          },
          "metadata": {
            "tags": []
          },
          "execution_count": 212
        }
      ]
    },
    {
      "cell_type": "markdown",
      "metadata": {
        "id": "qBcaoRDW3My2",
        "colab_type": "text"
      },
      "source": [
        "## Feature Reduction"
      ]
    },
    {
      "cell_type": "code",
      "metadata": {
        "id": "w8AhRtSU3MB0",
        "colab_type": "code",
        "colab": {
          "base_uri": "https://localhost:8080/",
          "height": 235
        },
        "outputId": "87f3ab39-1b1d-4af6-cf89-001c471d53b9"
      },
      "source": [
        "df_final_copy[\"locality\"] = df_final_copy[\"locality\"].apply(lambda x: x.strip())\n",
        "location_stats = df_final_copy[\"locality\"].value_counts().sort_values(ascending = False)\n",
        "print(location_stats)"
      ],
      "execution_count": 214,
      "outputs": [
        {
          "output_type": "stream",
          "text": [
            "Andheri                     2458\n",
            "Powai                       1453\n",
            "Chembur                     1400\n",
            "Goregaon                    1110\n",
            "Bandra                      1085\n",
            "                            ... \n",
            "MHADA Colony Milat Nagar       1\n",
            "Gamdia Colony Chowk            1\n",
            "Jeejamata Road                 1\n",
            "Munjar Nagar                   1\n",
            "Paranjape Nagar                1\n",
            "Name: locality, Length: 768, dtype: int64\n"
          ],
          "name": "stdout"
        }
      ]
    },
    {
      "cell_type": "code",
      "metadata": {
        "id": "5HYOlewmDnPQ",
        "colab_type": "code",
        "colab": {
          "base_uri": "https://localhost:8080/",
          "height": 35
        },
        "outputId": "deb8f5cf-e8e9-4d94-cec9-bddd7223ddfe"
      },
      "source": [
        "len(location_stats[location_stats<=10])"
      ],
      "execution_count": 215,
      "outputs": [
        {
          "output_type": "execute_result",
          "data": {
            "text/plain": [
              "529"
            ]
          },
          "metadata": {
            "tags": []
          },
          "execution_count": 215
        }
      ]
    },
    {
      "cell_type": "code",
      "metadata": {
        "id": "j_2rF_wyD3Q2",
        "colab_type": "code",
        "colab": {
          "base_uri": "https://localhost:8080/",
          "height": 235
        },
        "outputId": "00b98b3f-560d-4774-9fa7-7bb8d9fdbe60"
      },
      "source": [
        "location_stats_less_than_10 = location_stats[location_stats<=10]\n",
        "location_stats_less_than_10"
      ],
      "execution_count": 216,
      "outputs": [
        {
          "output_type": "execute_result",
          "data": {
            "text/plain": [
              "Azad Nagar Versova Road     10\n",
              "Nana Chowk                  10\n",
              "Upper Worli                 10\n",
              "Uppar Colaba                10\n",
              "Acharya A Maharaj Chowk     10\n",
              "                            ..\n",
              "MHADA Colony Milat Nagar     1\n",
              "Gamdia Colony Chowk          1\n",
              "Jeejamata Road               1\n",
              "Munjar Nagar                 1\n",
              "Paranjape Nagar              1\n",
              "Name: locality, Length: 529, dtype: int64"
            ]
          },
          "metadata": {
            "tags": []
          },
          "execution_count": 216
        }
      ]
    },
    {
      "cell_type": "code",
      "metadata": {
        "id": "jQPDWXT7IHCu",
        "colab_type": "code",
        "colab": {
          "base_uri": "https://localhost:8080/",
          "height": 235
        },
        "outputId": "b8137159-b2eb-41ff-ef51-11de77230bb2"
      },
      "source": [
        "df_final_copy[\"locality\"] = df_final_copy[\"locality\"].apply(lambda x: \"Others\" if x in location_stats_less_than_10 else x)\n",
        "df_final_copy[\"locality\"].value_counts()"
      ],
      "execution_count": 217,
      "outputs": [
        {
          "output_type": "execute_result",
          "data": {
            "text/plain": [
              "Andheri           2458\n",
              "Others            1606\n",
              "Powai             1453\n",
              "Chembur           1400\n",
              "Goregaon          1110\n",
              "                  ... \n",
              "Premier Colony      11\n",
              "Alika Nagar         11\n",
              "Gopal Nagar         11\n",
              "Gandhi Nagar        11\n",
              "Antop Hill          11\n",
              "Name: locality, Length: 240, dtype: int64"
            ]
          },
          "metadata": {
            "tags": []
          },
          "execution_count": 217
        }
      ]
    },
    {
      "cell_type": "code",
      "metadata": {
        "id": "UhFlO1ZUPFnS",
        "colab_type": "code",
        "colab": {
          "base_uri": "https://localhost:8080/",
          "height": 235
        },
        "outputId": "a6013232-63d5-4893-b694-35cf936018e7"
      },
      "source": [
        "df_final_copy[\"locality\"].value_counts()"
      ],
      "execution_count": 218,
      "outputs": [
        {
          "output_type": "execute_result",
          "data": {
            "text/plain": [
              "Andheri           2458\n",
              "Others            1606\n",
              "Powai             1453\n",
              "Chembur           1400\n",
              "Goregaon          1110\n",
              "                  ... \n",
              "Premier Colony      11\n",
              "Alika Nagar         11\n",
              "Gopal Nagar         11\n",
              "Gandhi Nagar        11\n",
              "Antop Hill          11\n",
              "Name: locality, Length: 240, dtype: int64"
            ]
          },
          "metadata": {
            "tags": []
          },
          "execution_count": 218
        }
      ]
    },
    {
      "cell_type": "markdown",
      "metadata": {
        "id": "HM_W3DJKRp2w",
        "colab_type": "text"
      },
      "source": [
        "## OUTLIER DETECTION"
      ]
    },
    {
      "cell_type": "code",
      "metadata": {
        "id": "7r-Z8wjDRrxQ",
        "colab_type": "code",
        "colab": {
          "base_uri": "https://localhost:8080/",
          "height": 35
        },
        "outputId": "a6c33bfc-7d05-4895-ac9e-c1ecc2a7f5d3"
      },
      "source": [
        "df_final_copy.shape"
      ],
      "execution_count": 219,
      "outputs": [
        {
          "output_type": "execute_result",
          "data": {
            "text/plain": [
              "(33355, 5)"
            ]
          },
          "metadata": {
            "tags": []
          },
          "execution_count": 219
        }
      ]
    },
    {
      "cell_type": "code",
      "metadata": {
        "id": "Gd-tycslSeMq",
        "colab_type": "code",
        "colab": {
          "base_uri": "https://localhost:8080/",
          "height": 35
        },
        "outputId": "c18354e3-0f9b-4d13-d038-804738041324"
      },
      "source": [
        "df_final_copy.columns"
      ],
      "execution_count": 220,
      "outputs": [
        {
          "output_type": "execute_result",
          "data": {
            "text/plain": [
              "Index(['area', 'bathroom_num', 'bedroom_num', 'locality', 'price'], dtype='object')"
            ]
          },
          "metadata": {
            "tags": []
          },
          "execution_count": 220
        }
      ]
    },
    {
      "cell_type": "code",
      "metadata": {
        "id": "EGnpsqMjSsIA",
        "colab_type": "code",
        "colab": {
          "base_uri": "https://localhost:8080/",
          "height": 35
        },
        "outputId": "8a029279-db75-4798-bf08-5244cabb15b6"
      },
      "source": [
        "df_without_out = df_final_copy[~(df_final_copy[\"area\"]/df_final_copy[\"bedroom_num\"]<300)]\n",
        "df_without_out.shape"
      ],
      "execution_count": 221,
      "outputs": [
        {
          "output_type": "execute_result",
          "data": {
            "text/plain": [
              "(33015, 5)"
            ]
          },
          "metadata": {
            "tags": []
          },
          "execution_count": 221
        }
      ]
    },
    {
      "cell_type": "code",
      "metadata": {
        "id": "AaEOoBkyedtM",
        "colab_type": "code",
        "colab": {
          "base_uri": "https://localhost:8080/",
          "height": 296
        },
        "outputId": "b94339d4-1318-4d0d-ee3d-c1b78219fae6"
      },
      "source": [
        "bathrooms = df_without_out[\"bathroom_num\"].value_counts()\n",
        "fig = plt.figure(figsize=(8,3))\n",
        "ax = fig.add_axes([0,0,0.8,1])\n",
        "bathroom_count = bathrooms.index\n",
        "freq = bathrooms\n",
        "sns.barplot(x = bathroom_count,y = freq)\n",
        "plt.xlabel(\"No of bathrooms\")\n",
        "plt.ylabel(\"Count\")"
      ],
      "execution_count": 222,
      "outputs": [
        {
          "output_type": "execute_result",
          "data": {
            "text/plain": [
              "Text(0, 0.5, 'Count')"
            ]
          },
          "metadata": {
            "tags": []
          },
          "execution_count": 222
        },
        {
          "output_type": "display_data",
          "data": {
            "image/png": "[encoded data removed]",
            "text/plain": [
              "<Figure size 576x216 with 1 Axes>"
            ]
          },
          "metadata": {
            "tags": [],
            "needs_background": "light"
          }
        }
      ]
    },
    {
      "cell_type": "code",
      "metadata": {
        "id": "D63KYJGZXCVK",
        "colab_type": "code",
        "colab": {
          "base_uri": "https://localhost:8080/",
          "height": 35
        },
        "outputId": "ceec4897-dd2b-4687-a038-8a46b0c27011"
      },
      "source": [
        "df_without_bath = df_without_out[~(df_without_out[\"bathroom_num\"]>df_without_out[\"bedroom_num\"]+2)]\n",
        "df_without_bath.shape"
      ],
      "execution_count": 223,
      "outputs": [
        {
          "output_type": "execute_result",
          "data": {
            "text/plain": [
              "(33005, 5)"
            ]
          },
          "metadata": {
            "tags": []
          },
          "execution_count": 223
        }
      ]
    },
    {
      "cell_type": "code",
      "metadata": {
        "id": "0r_dDU1Bdd6f",
        "colab_type": "code",
        "colab": {
          "base_uri": "https://localhost:8080/",
          "height": 296
        },
        "outputId": "38c86dfc-8a17-4679-b175-c27c0b40737f"
      },
      "source": [
        "bathrooms = df_without_bath[\"bathroom_num\"].value_counts()\n",
        "fig = plt.figure(figsize=(8,3))\n",
        "ax = fig.add_axes([0,0,0.8,1])\n",
        "bathroom_count = bathrooms.index\n",
        "freq = bathrooms\n",
        "sns.barplot(x = bathroom_count,y = freq)\n",
        "plt.xlabel(\"No of bathrooms\")\n",
        "plt.ylabel(\"Count\")"
      ],
      "execution_count": 224,
      "outputs": [
        {
          "output_type": "execute_result",
          "data": {
            "text/plain": [
              "Text(0, 0.5, 'Count')"
            ]
          },
          "metadata": {
            "tags": []
          },
          "execution_count": 224
        },
        {
          "output_type": "display_data",
          "data": {
            "image/png": "[encoded data removed]",
            "text/plain": [
              "<Figure size 576x216 with 1 Axes>"
            ]
          },
          "metadata": {
            "tags": [],
            "needs_background": "light"
          }
        }
      ]
    },
    {
      "cell_type": "code",
      "metadata": {
        "id": "ze2ZzjgKiBEK",
        "colab_type": "code",
        "colab": {}
      },
      "source": [
        "df_without_bath.to_csv(\"Properties_cleaned.csv\",index=False)"
      ],
      "execution_count": 225,
      "outputs": []
    }
  ]
}